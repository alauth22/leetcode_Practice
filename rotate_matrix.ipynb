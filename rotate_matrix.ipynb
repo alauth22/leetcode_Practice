{
 "cells": [
  {
   "cell_type": "code",
   "execution_count": null,
   "id": "79e3f635-6f9b-47c5-8895-0fe4a0020871",
   "metadata": {},
   "outputs": [],
   "source": []
  },
  {
   "cell_type": "code",
   "execution_count": null,
   "id": "7eb74f29-282e-4baf-a3f4-85525e4c6a50",
   "metadata": {},
   "outputs": [],
   "source": [
    "def rotate_image(matrix):\n",
    "    '''\n",
    "    INPUT: Matrix: 2D matrix representing image \n",
    "    \n",
    "    OUTPUT: Matrix: same 2D matrix but rotated 90 degrees clockwise. \n",
    "    \n",
    "    '''\n",
    "    "
   ]
  },
  {
   "cell_type": "code",
   "execution_count": null,
   "id": "a4a7a924-da1a-4fb6-9b95-01da0830c481",
   "metadata": {},
   "outputs": [],
   "source": []
  },
  {
   "cell_type": "code",
   "execution_count": 4,
   "id": "5241330f-9b5b-4d1c-ba8a-83b513740642",
   "metadata": {},
   "outputs": [],
   "source": [
    "matrix = [[1,2,3],[4,5,6],[7,8,9]]"
   ]
  },
  {
   "cell_type": "code",
   "execution_count": 11,
   "id": "759ece19-cb38-4865-bdb0-93972901615d",
   "metadata": {},
   "outputs": [
    {
     "data": {
      "text/plain": [
       "list"
      ]
     },
     "execution_count": 11,
     "metadata": {},
     "output_type": "execute_result"
    }
   ],
   "source": [
    "type(matrix)"
   ]
  },
  {
   "cell_type": "code",
   "execution_count": 10,
   "id": "2b6f62e4-0d38-4d51-a091-f49572760614",
   "metadata": {},
   "outputs": [
    {
     "name": "stdout",
     "output_type": "stream",
     "text": [
      "[1, 2, 3]\n",
      "[4, 5, 6]\n",
      "[7, 8, 9]\n",
      "[7]\n"
     ]
    }
   ],
   "source": [
    "matrix_rotate = []\n",
    "for i in matrix:\n",
    "    print(i)\n",
    "    test = []\n",
    "    test.append\n",
    "print(test)"
   ]
  },
  {
   "cell_type": "code",
   "execution_count": 16,
   "id": "48f98e08-2e35-4466-bb3d-747b5c898501",
   "metadata": {},
   "outputs": [
    {
     "data": {
      "text/plain": [
       "array([[1, 2, 3],\n",
       "       [4, 5, 6],\n",
       "       [7, 8, 9]])"
      ]
     },
     "execution_count": 16,
     "metadata": {},
     "output_type": "execute_result"
    }
   ],
   "source": [
    "import numpy as np\n",
    "\n",
    "matrix_2 = np.array(matrix)\n",
    "matrix_2"
   ]
  },
  {
   "cell_type": "code",
   "execution_count": 37,
   "id": "c427ebc7-17c8-4783-abdf-9470bb575389",
   "metadata": {},
   "outputs": [
    {
     "name": "stdout",
     "output_type": "stream",
     "text": [
      "[1 4 7]\n",
      "[1 4 7]\n"
     ]
    },
    {
     "data": {
      "text/plain": [
       "[1, 4, 7]"
      ]
     },
     "execution_count": 37,
     "metadata": {},
     "output_type": "execute_result"
    }
   ],
   "source": [
    "test = matrix_2[:,0]\n",
    "print(test)\n",
    "#need to invert the list. \n",
    "test[::-1]\n",
    "print(test)\n",
    "test_1_lst = test.tolist()\n",
    "test_1_lst"
   ]
  },
  {
   "cell_type": "code",
   "execution_count": 33,
   "id": "1565528f-c480-45b8-b762-0a8e17ffcd09",
   "metadata": {},
   "outputs": [
    {
     "data": {
      "text/plain": [
       "[2, 5, 8]"
      ]
     },
     "execution_count": 33,
     "metadata": {},
     "output_type": "execute_result"
    }
   ],
   "source": [
    "test_2 = matrix_2[:,1]\n",
    "test_2[::-1]\n",
    "test_2_lst = test_2.tolist()\n",
    "test_2_lst"
   ]
  },
  {
   "cell_type": "code",
   "execution_count": null,
   "id": "d42a713f-9d6e-4169-9c96-b2e5e49670be",
   "metadata": {},
   "outputs": [],
   "source": [
    "test_3 = matrix_3[:,3]\n"
   ]
  },
  {
   "cell_type": "code",
   "execution_count": null,
   "id": "d381a481-09fd-4521-aae0-abcbff7a6267",
   "metadata": {},
   "outputs": [],
   "source": []
  },
  {
   "cell_type": "code",
   "execution_count": null,
   "id": "87c730da-13a9-450b-93f2-1681784f84d3",
   "metadata": {},
   "outputs": [],
   "source": []
  },
  {
   "cell_type": "code",
   "execution_count": null,
   "id": "6af4cd95-80b7-4042-b063-587b92bbf02c",
   "metadata": {},
   "outputs": [],
   "source": []
  },
  {
   "cell_type": "code",
   "execution_count": 19,
   "id": "df8aecc7-706b-4961-9928-4a23d40b42e0",
   "metadata": {},
   "outputs": [
    {
     "data": {
      "text/plain": [
       "list"
      ]
     },
     "execution_count": 19,
     "metadata": {},
     "output_type": "execute_result"
    }
   ],
   "source": [
    "to_list = matrix_2.tolist()\n",
    "to_list\n",
    "type(to_list)"
   ]
  },
  {
   "cell_type": "code",
   "execution_count": null,
   "id": "489f53b9-336d-4dfa-af57-0cf771757832",
   "metadata": {},
   "outputs": [],
   "source": []
  },
  {
   "cell_type": "code",
   "execution_count": 2,
   "id": "48a3c85e-db78-4425-baeb-3830c828fc65",
   "metadata": {},
   "outputs": [
    {
     "data": {
      "text/plain": [
       "[[1, 2, 3], [4, 5, 6], [7, 8, 9]]"
      ]
     },
     "execution_count": 2,
     "metadata": {},
     "output_type": "execute_result"
    }
   ],
   "source": [
    "test_matrix = [[1,2,3], [4,5,6], [7,8,9]]\n",
    "test_matrix"
   ]
  },
  {
   "cell_type": "code",
   "execution_count": 8,
   "id": "15f6e31e-e335-457a-9e41-3a9a089b4a58",
   "metadata": {},
   "outputs": [
    {
     "name": "stdout",
     "output_type": "stream",
     "text": [
      "[1, 2, 3]\n",
      "[4, 5, 6]\n",
      "[7, 8, 9]\n",
      "[1, 4, 7]\n"
     ]
    }
   ],
   "source": [
    "final_matrix \n",
    "for lst in test_matrix:\n",
    "    print(lst)\n",
    "    final_matrix.append(lst[0])\n",
    "print(final_matrix)"
   ]
  },
  {
   "cell_type": "code",
   "execution_count": null,
   "id": "b2b8a1ad-7a8c-43a4-b389-1f47db359892",
   "metadata": {},
   "outputs": [],
   "source": []
  },
  {
   "cell_type": "code",
   "execution_count": null,
   "id": "90af51d1-6b9c-4b24-8bc8-d0277384efda",
   "metadata": {},
   "outputs": [],
   "source": []
  },
  {
   "cell_type": "code",
   "execution_count": null,
   "id": "6c99ce27-c6ad-45e5-a1b9-e57954d9eb78",
   "metadata": {},
   "outputs": [],
   "source": []
  },
  {
   "cell_type": "code",
   "execution_count": null,
   "id": "f40f8f55-c30a-4c75-af0f-dad2fc11fbb1",
   "metadata": {},
   "outputs": [],
   "source": []
  }
 ],
 "metadata": {
  "kernelspec": {
   "display_name": "Python 3 (ipykernel)",
   "language": "python",
   "name": "python3"
  },
  "language_info": {
   "codemirror_mode": {
    "name": "ipython",
    "version": 3
   },
   "file_extension": ".py",
   "mimetype": "text/x-python",
   "name": "python",
   "nbconvert_exporter": "python",
   "pygments_lexer": "ipython3",
   "version": "3.7.8"
  }
 },
 "nbformat": 4,
 "nbformat_minor": 5
}
