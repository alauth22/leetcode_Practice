{
 "cells": [
  {
   "cell_type": "code",
   "execution_count": null,
   "id": "92d3d851-aa20-48cf-b59e-d4c31b147c3b",
   "metadata": {},
   "outputs": [],
   "source": []
  },
  {
   "cell_type": "code",
   "execution_count": 59,
   "id": "457dc080-3ea0-49ee-a8ce-d9c3b18f6b14",
   "metadata": {},
   "outputs": [],
   "source": [
    "def duplicate(nums):\n",
    "    '''\n",
    "    INPUT: nums (list) - a list of numbers to be examined. \n",
    "    \n",
    "    OUTPUT: boolean - true or false whether a duplicate of an integer exists or not within the list. \n",
    "    \n",
    "    Task: Determine if at least one integer present in list exists and return boolean true or boolean false. \n",
    "    '''\n",
    "    from collections import Counter \n",
    "    \n",
    "    #set a variable equal to the Counter dictionary of how many times something occurs. \n",
    "    dict_nums = Counter(nums)\n",
    "    #set just the values equal to a variable. \n",
    "    values = dict_nums.values()\n",
    "    values_list = list(values)\n",
    "    \n",
    "    for index in range(len(values_list)):\n",
    "        if values_list[index] >= 2:\n",
    "            return True \n",
    "    return False \n"
   ]
  },
  {
   "cell_type": "code",
   "execution_count": 60,
   "id": "b314a437-97ef-469b-ab03-682d6ba28680",
   "metadata": {},
   "outputs": [
    {
     "data": {
      "text/plain": [
       "False"
      ]
     },
     "execution_count": 60,
     "metadata": {},
     "output_type": "execute_result"
    }
   ],
   "source": [
    "duplicate([1,2,3,4,5])"
   ]
  },
  {
   "cell_type": "code",
   "execution_count": 61,
   "id": "b379ffb5-6a90-4abe-b7ff-7d74b183e1cb",
   "metadata": {},
   "outputs": [
    {
     "data": {
      "text/plain": [
       "True"
      ]
     },
     "execution_count": 61,
     "metadata": {},
     "output_type": "execute_result"
    }
   ],
   "source": [
    "duplicate([1,1,2,3,4,5])"
   ]
  },
  {
   "cell_type": "code",
   "execution_count": 62,
   "id": "b4028367-1b8b-497d-8610-c47c546bf4ff",
   "metadata": {},
   "outputs": [
    {
     "data": {
      "text/plain": [
       "True"
      ]
     },
     "execution_count": 62,
     "metadata": {},
     "output_type": "execute_result"
    }
   ],
   "source": [
    "duplicate([1,1,1,3,3,4,3,2,4])"
   ]
  },
  {
   "cell_type": "code",
   "execution_count": 63,
   "id": "75a8e059-bf4f-4d43-84cc-780e2700762f",
   "metadata": {},
   "outputs": [
    {
     "data": {
      "text/plain": [
       "False"
      ]
     },
     "execution_count": 63,
     "metadata": {},
     "output_type": "execute_result"
    }
   ],
   "source": [
    "duplicate([1,2,3,4,5,6,7,8,9])"
   ]
  },
  {
   "cell_type": "code",
   "execution_count": null,
   "id": "e1d9180c-743d-4f32-abef-844413e68e5a",
   "metadata": {},
   "outputs": [],
   "source": []
  },
  {
   "cell_type": "code",
   "execution_count": 41,
   "id": "037bb078-d4fc-4f79-bad4-af89b6d82eb7",
   "metadata": {},
   "outputs": [],
   "source": [
    "nums = [1,1,2,3,4,5]"
   ]
  },
  {
   "cell_type": "code",
   "execution_count": 47,
   "id": "cf321cf4-b2e6-4bdc-9175-2ab605906ea8",
   "metadata": {},
   "outputs": [
    {
     "data": {
      "text/plain": [
       "[2, 1, 1, 1, 1]"
      ]
     },
     "execution_count": 47,
     "metadata": {},
     "output_type": "execute_result"
    }
   ],
   "source": [
    "from collections import Counter\n",
    "\n",
    "test = Counter(nums)\n",
    "test\n",
    "keys = test.keys()\n",
    "keys\n",
    "values = test.values()\n",
    "test2 = list(values)\n",
    "\n",
    "test2\n"
   ]
  },
  {
   "cell_type": "code",
   "execution_count": null,
   "id": "06ae3a93-6969-4dc5-83df-8577a40c3a18",
   "metadata": {},
   "outputs": [],
   "source": []
  },
  {
   "cell_type": "code",
   "execution_count": 17,
   "id": "4be5d6a6-be95-4b76-9636-782df0b222ca",
   "metadata": {},
   "outputs": [],
   "source": [
    "nums = [1,2,3,4,5]"
   ]
  },
  {
   "cell_type": "code",
   "execution_count": 19,
   "id": "daaafda7-aab2-4717-bc67-6f87866955eb",
   "metadata": {},
   "outputs": [],
   "source": [
    "duplicate([1,2,3,4,5])"
   ]
  },
  {
   "cell_type": "code",
   "execution_count": null,
   "id": "d2e4e4f4-b5e0-4190-a8a9-18b8b893bed2",
   "metadata": {},
   "outputs": [],
   "source": []
  }
 ],
 "metadata": {
  "kernelspec": {
   "display_name": "Python 3 (ipykernel)",
   "language": "python",
   "name": "python3"
  },
  "language_info": {
   "codemirror_mode": {
    "name": "ipython",
    "version": 3
   },
   "file_extension": ".py",
   "mimetype": "text/x-python",
   "name": "python",
   "nbconvert_exporter": "python",
   "pygments_lexer": "ipython3",
   "version": "3.7.8"
  }
 },
 "nbformat": 4,
 "nbformat_minor": 5
}
