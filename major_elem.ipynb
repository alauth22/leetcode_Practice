{
 "cells": [
  {
   "cell_type": "code",
   "execution_count": null,
   "id": "2d4d76cd-aa5f-48fa-9199-09fc32980504",
   "metadata": {},
   "outputs": [],
   "source": []
  },
  {
   "cell_type": "code",
   "execution_count": 11,
   "id": "079c8510-e027-43ff-b005-47599a5e44c9",
   "metadata": {},
   "outputs": [],
   "source": [
    "def major_elem(nums):\n",
    "    from collections import Counter \n",
    "    '''\n",
    "    INPUT: nums list: a list of random integers, some of which are repeating each other. \n",
    "    \n",
    "    OUTPUT: the integer that occurs the majority of the time in the list. \n",
    "    \n",
    "    RETURN: return the integer that holds the majority occurence in the nums list. \n",
    "    \n",
    "    '''\n",
    "    \n",
    "    from collections import Counter \n",
    "    \n",
    "    nums_dict = Counter(nums)\n",
    "    max_value = max(nums_dict) \n",
    "    \n",
    "    return max_value \n"
   ]
  },
  {
   "cell_type": "code",
   "execution_count": 12,
   "id": "07420124-e3d6-43b8-82dd-9ea8fa69e30f",
   "metadata": {},
   "outputs": [
    {
     "data": {
      "text/plain": [
       "2"
      ]
     },
     "execution_count": 12,
     "metadata": {},
     "output_type": "execute_result"
    }
   ],
   "source": [
    "major_elem([2,2,1,1,1,2,2])"
   ]
  },
  {
   "cell_type": "code",
   "execution_count": 10,
   "id": "9ceecafb-bc6a-4fae-a4b9-7008fcf47482",
   "metadata": {},
   "outputs": [
    {
     "data": {
      "text/plain": [
       "4"
      ]
     },
     "execution_count": 10,
     "metadata": {},
     "output_type": "execute_result"
    }
   ],
   "source": [
    "major_elem([3,4,3])"
   ]
  },
  {
   "cell_type": "code",
   "execution_count": null,
   "id": "a2184ce5-0e2b-4018-9bef-fa8e8d0122db",
   "metadata": {},
   "outputs": [],
   "source": []
  },
  {
   "cell_type": "code",
   "execution_count": null,
   "id": "67bbe784-a191-4957-bcba-cb88b80e6c4f",
   "metadata": {},
   "outputs": [],
   "source": []
  },
  {
   "cell_type": "code",
   "execution_count": 7,
   "id": "af73b5a7-df13-4c40-bbb7-62848601a4bd",
   "metadata": {},
   "outputs": [
    {
     "data": {
      "text/plain": [
       "3"
      ]
     },
     "execution_count": 7,
     "metadata": {},
     "output_type": "execute_result"
    }
   ],
   "source": [
    "nums = [1,1,2,2,3,3,3,3,3]\n",
    "from collections import Counter \n",
    "\n",
    "nums_dict = Counter(nums)\n",
    "max_value = max(nums_dict)\n",
    "max_value"
   ]
  },
  {
   "cell_type": "code",
   "execution_count": null,
   "id": "6961c25a-55c7-4290-bb7c-1441eabc9894",
   "metadata": {},
   "outputs": [],
   "source": []
  }
 ],
 "metadata": {
  "kernelspec": {
   "display_name": "Python 3 (ipykernel)",
   "language": "python",
   "name": "python3"
  },
  "language_info": {
   "codemirror_mode": {
    "name": "ipython",
    "version": 3
   },
   "file_extension": ".py",
   "mimetype": "text/x-python",
   "name": "python",
   "nbconvert_exporter": "python",
   "pygments_lexer": "ipython3",
   "version": "3.7.8"
  }
 },
 "nbformat": 4,
 "nbformat_minor": 5
}
